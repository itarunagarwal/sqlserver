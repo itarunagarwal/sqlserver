{
  "cells": [
    {
      "metadata": {
        "collapsed": true,
        "slideshow": {
          "slide_type": "slide"
        }
      },
      "cell_type": "markdown",
      "source": "# Notebook Basics\n<img style=\"float: right;\" src=\"./assets/solutions-microsoft-logo-small.png\">\n\n*Notebook Servers* run `.ipynb` files (called Notebooks). You can install a Notebook Server locally, or you can use something like [Azure Notebooks](https://notebooks.azure.com/faq) which provides a quick, easy way to work with and share Notebooks. (It's all a bit like a specific kind of web server)\n\n*Libraries* are a container on your Notebook server where you can have Notebooks, code, directories and other files. \n\n*Notebooks* are JSON files that contain areas called *Cells*, which have text or code in them. When you double-click a Notebook, the Notebook server renders and can display text or run code, such as R or Python, using a *Kernel*. \n\nLet's take a look at Cells next.\n\n<p style=\"border-bottom: 1px solid lightgrey;\"></p> "
    },
    {
      "metadata": {
        "slideshow": {
          "slide_type": "slide"
        }
      },
      "cell_type": "markdown",
      "source": "## Working with Cells\n<img style=\"float: right;\" width=\"120\" src=\"./assets/keyboard.jpg\">\n\nThis section in a Jupyter Notebook is called a *Cell*. Cells can hold text (such as [Markdown](https://jupyter-notebook.readthedocs.io/en/latest/examples/Notebook/Working%20With%20Markdown%20Cells.html), [HTML](https://www.w3schools.com/html/default.asp), or [LaTeX](https://en.wikibooks.org/wiki/LaTeX/Mathematics)) which you can mix together, or Code. \n\nClick the **Cell** Menu at the top of this page (more on menus in a moment) to set what Cells can do. \n\nDouble-click a Cell to edit it, and then click the \"Run\" button to render what you typed. \n\nMarkdown will show with all the *Markdown* Codes until you Run them. \n\nCode runs and displays an output below the cell. You can toggle the result for code to show or hide it."
    },
    {
      "metadata": {
        "slideshow": {
          "slide_type": "slide"
        }
      },
      "cell_type": "markdown",
      "source": "## Markdown\n\n![alt text](./assets/dothings.jpg)\n\n**Markdown** is a simplified markup language for text. Use it for general text and simple graphics. You can read more about Markdown here: https://www.markdowntutorial.com/\n\nAnd there's a great cheat-sheet on Markdown here: https://github.com/adam-p/markdown-here/wiki/Markdown-Cheatsheet \n\n*(Double-click this cell to see an example of Markdown in action)*"
    },
    {
      "metadata": {
        "slideshow": {
          "slide_type": "slide"
        }
      },
      "cell_type": "markdown",
      "source": "<h2>HTML</h2>\n\n<img style=\"float: right;\" width=\"120\" src=\"./assets/brain.jpg\">\n\n<p>Use HTML in a cell when you want more formatting control, multiple kinds of content, or you need more control over text and graphics. <i>Double-click this Cell to see an example HTML.</i></p>\n\n<p style=\"border-bottom: 1px solid lightgrey;\"></p> \n\n<p><b>This text is bold</b></p>\n<p><i>This text is italic</i></p>\n<p>This is<sub> subscript</sub> and <sup>superscript</sup></p>\n\n<p>You can learn more about HTML here; <a href=\"https://www.w3schools.com/html/default.asp\">https://www.w3schools.com/html/default.asp</a></p>\n\n<p style=\"font-family:verdana;font-size:12px;font-style:italic;\">NOTE: You pretty much have access to most basic tabs and a lot of graphical control, but Notebbooks are not Web Servers. CSS is possible in a local Jupyter server, but does not behave the same here on Azure. You *can* use the \"style\" tag inline as I have done here.</p> \n\n<p style=\"border-bottom: 1px solid lightgrey;\"></p> "
    },
    {
      "metadata": {
        "slideshow": {
          "slide_type": "slide"
        }
      },
      "cell_type": "markdown",
      "source": "## LaTeX\n\nIf you need to show mathematical symbols, you can use LaTeX. *(Double-click this cell to see an example of LaTeX)*\n\nFor instance - We wish to evaluate\n\n$$\nf(x) = \\beta x^{3} \\int_{0}^{2} g(x) \\, dx\n$$\n\nwhen $\\beta = 4$.\n\nLearn more about LaTeX here: https://en.wikibooks.org/wiki/LaTeX/Mathematics \n"
    },
    {
      "metadata": {
        "slideshow": {
          "slide_type": "slide"
        }
      },
      "cell_type": "markdown",
      "source": "## Code\n\nTo *show* Code within a cell (display only), set the Cell Type to Markdown and use the `back-tick mark`. \\`\n\nThis is some Python Code:\n\n`print('Hello, Azure Notebooks!')`\n\nTo *Run* code, set the cell type in the top menu. You can show or hide the code output *(using the \"Toggle\" item)* from there as well. \n\n<p style=\"border-bottom: 1px solid lightgrey;\"></p> \n"
    },
    {
      "metadata": {
        "slideshow": {
          "slide_type": "slide"
        },
        "trusted": false
      },
      "cell_type": "code",
      "source": "# Set the Cell type to Code to run code using a Kernel - more about those later\n\nprices = {'apple': 0.40, 'banana': 0.50}\nmy_purchase = {\n    'apple': 1,\n    'banana': 6}\ngrocery_bill = sum(prices[fruit] * my_purchase[fruit]\n                   for fruit in my_purchase)\nprint('I owe the grocer $%.2f' % grocery_bill)",
      "execution_count": 1,
      "outputs": [
        {
          "name": "stdout",
          "output_type": "stream",
          "text": "I owe the grocer $3.40\n"
        }
      ]
    },
    {
      "metadata": {
        "slideshow": {
          "slide_type": "slide"
        }
      },
      "cell_type": "markdown",
      "source": "## A Walk among the Menus\n<img style=\"float: right;\" width=\"30\" src=\"./assets/checkmark.jpg\">\n\nThere are three types of menus in a Notebook: \n  - Libraries\n  - Notebooks\n  - Cells\n  \nTake a moment now to walk through all of them - remember the Library menus are on the tab before this one in your browser. (I'll wait)\n\n<p style=\"border-bottom: 1px solid lightgrey;\"></p>"
    },
    {
      "metadata": {
        "slideshow": {
          "slide_type": "slide"
        }
      },
      "cell_type": "markdown",
      "source": "## Presenting with Azure Notebooks\n<img style=\"float: right;\" width=\"120\" src=\"./assets/ai.jpg\">\n\nYou can do presentations (like this one) using the [RISE slideshow tool](https://damianavila.github.io/RISE/usage.html), which is built in to Azure Notebooks. There are a few tips to keep in mind - starting with the Cell menu. This cell (like the ones before it) is set to a *Slide*. I've set the one below to be a *Sub-Slide*. \n\n(Note: The best tip for presenting is to keep your Cells small - more Cells with less text.)\n\nYou can use the spacebar to move forward, the arrow-keys for other directions, and hit the **W** key to show a map of your \"deck\".\n\n<p style=\"border-bottom: 1px solid lightgrey;\"></p>"
    },
    {
      "metadata": {
        "slideshow": {
          "slide_type": "subslide"
        }
      },
      "cell_type": "markdown",
      "source": "### This is a *Sub-Slide*\n<img style=\"float: right;\" width=\"75\" src=\"./assets/pin.jpg\">\nYou can use Sub-Slides to show or hide detail - you can see it with the down-arrow, or bypass it with the right-arrow. I use slides for concepts, and sub-slides for detail. That way one presentation can be two!\n\n<p style=\"border-bottom: 1px solid lightgrey;\"></p>"
    },
    {
      "metadata": {
        "slideshow": {
          "slide_type": "notes"
        }
      },
      "cell_type": "markdown",
      "source": "These are notes. They will show in the Notebook view, but not during a slideshow. "
    },
    {
      "metadata": {
        "slideshow": {
          "slide_type": "fragment"
        }
      },
      "cell_type": "markdown",
      "source": "*This is a Fragment. It shows up within the currently displayed Cell. It's useful for showing, and hiding content. Be careful though - you don't have a lot of screen real-estate!*"
    },
    {
      "metadata": {
        "slideshow": {
          "slide_type": "slide"
        }
      },
      "cell_type": "markdown",
      "source": "##  Tricks and Tips\n<img style=\"float: right;\" width=\"120\" src=\"./assets/brain.jpg\"> \n\nNow let's take a look at some other cool things you can do when presenting with a Notebook.\n\n<p style=\"border-bottom: 1px solid lightgrey;\"></p>"
    },
    {
      "metadata": {
        "slideshow": {
          "slide_type": "subslide"
        }
      },
      "cell_type": "markdown",
      "source": "### Cell Magic\n<img style=\"float: right;\" width=\"100\" src=\"./assets/dothings.jpg\"> \n\nCell Magic extends the control of your Notebook. \n\nYou can find a complete list of the commands here: https://ipython.readthedocs.io/en/stable/interactive/magics.html\n\nLet's replace the code in the next cell with the code from another file: \n\n`\n/# This is the original code\n%load ./helloworld.py\nprint(\"This code won't run. But the file above will!\")\n`\n<p style=\"border-bottom: 1px solid lightgrey;\"></p>"
    },
    {
      "metadata": {
        "slideshow": {
          "slide_type": "fragment"
        },
        "trusted": false
      },
      "cell_type": "code",
      "source": "# %load ./helloworld.py\nprint(\"Pretty neat, no?\")",
      "execution_count": null,
      "outputs": []
    },
    {
      "metadata": {
        "slideshow": {
          "slide_type": "subslide"
        },
        "trusted": false
      },
      "cell_type": "code",
      "source": "# Show images in order - let's get the first five\nimport os\nfrom IPython.display import display, Image\nnames = [f for f in os.listdir('./assets/') if f.endswith('.jpg')]\nfor name in names[:5]:\n    display(Image('./assets/' + name, width=50))",
      "execution_count": 3,
      "outputs": [
        {
          "data": {
            "image/jpeg": "[encoded data removed]",
            "text/plain": "<IPython.core.display.Image object>"
          },
          "metadata": {
            "image/jpeg": {
              "width": 50
            }
          },
          "output_type": "display_data"
        },
        {
          "data": {
            "image/jpeg": "[encoded data removed]",
            "text/plain": "<IPython.core.display.Image object>"
          },
          "metadata": {
            "image/jpeg": {
              "width": 50
            }
          },
          "output_type": "display_data"
        },
        {
          "data": {
            "image/jpeg": "[encoded data removed]",
            "text/plain": "<IPython.core.display.Image object>"
          },
          "metadata": {
            "image/jpeg": {
              "width": 50
            }
          },
          "output_type": "display_data"
        },
        {
          "data": {
            "image/jpeg": "[encoded data removed]",
            "text/plain": "<IPython.core.display.Image object>"
          },
          "metadata": {
            "image/jpeg": {
              "width": 50
            }
          },
          "output_type": "display_data"
        },
        {
          "data": {
            "image/jpeg": "[encoded data removed]",
            "text/plain": "<IPython.core.display.Image object>"
          },
          "metadata": {
            "image/jpeg": {
              "width": 50
            }
          },
          "output_type": "display_data"
        }
      ]
    },
    {
      "metadata": {
        "slideshow": {
          "slide_type": "slide"
        }
      },
      "cell_type": "markdown",
      "source": "## So Much More to Learn\n<img style=\"float: right;\" width=\"100\" src=\"./assets/wrapup.jpg\"> \nThere's a lot more to learn about Notebooks - and about Azure Notebooks! \n\nCheck it all out here: https://notebooks.azure.com/help/libraries\n\nAnd here are some other great links: \n\n -  Learn more about Jupyter Notebooks here: https://jupyter-notebook.readthedocs.io/en/stable/ \n\n -  <p><img style=\"float: left; margin: 0px 15px 15px 0px; display: inline-block;\" src=\"./assets/aml-logo.png\" alt=\"Machine Learning Logo\">Note: For a more complex, complete example of using Notebooks in Data Science, check out this reference:</p>\n\n[\"Biomedical entity recognition using Team Data Science Process (TDSP) Template\"](https://docs.microsoft.com/en-us/azure/machine-learning/preview/scenario-tdsp-biomedical-recognition?toc=%2Fen-us%2Fazure%2Fmachine-learning%2Fteam-data-science-process%2Ftoc.json&bc=%2Fen-us%2Fazure%2Fbread%2Ftoc.json)</p>\n\n -  Want another approach to learning Azure Notebooks? Check out this reference: [https://notebooks.azure.com/help/libraries](https://notebooks.azure.com/help/libraries)\n\n -  Presentation slides with Jupyter Notebook - https://echorand.me/presentation-slides-with-jupyter-notebook.html\n\n -  Reveal.js Tutorial - Reveal.js for Beginners - http://htmlcheats.com/reveal-js/reveal-js-tutorial-reveal-js-for-beginners/ \n\n -  A gallery of interesting Notebooks - https://github.com/jupyter/jupyter/wiki/A-gallery-of-interesting-Jupyter-Notebooks\n\nA \"Kernel\" is what runs the Code cells. You can install lots of them, but the most common are *Python* and *R*. \n\n -  Learn about Python and Notebooks here: https://github.com/jdwittenauer/ipython-notebooks/blob/master/notebooks/language/Intro.ipynb \n\n -  Learn about R and Notebooks here: https://www.datacamp.com/community/blog/jupyter-notebook-r \n\n<p style=\"border-bottom: 1px solid lightgrey;\"></p>"
    }
  ],
  "metadata": {
    "celltoolbar": "Slideshow",
    "kernelspec": {
      "name": "python36",
      "display_name": "Python 3.6",
      "language": "python"
    },
    "language_info": {
      "mimetype": "text/x-python",
      "nbconvert_exporter": "python",
      "name": "python",
      "pygments_lexer": "ipython3",
      "version": "3.6.6",
      "file_extension": ".py",
      "codemirror_mode": {
        "version": 3,
        "name": "ipython"
      }
    }
  },
  "nbformat": 4,
  "nbformat_minor": 2
}